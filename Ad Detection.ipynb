{
 "cells": [
  {
   "cell_type": "markdown",
   "metadata": {},
   "source": [
    "# Advertisement detection"
   ]
  },
  {
   "cell_type": "markdown",
   "metadata": {},
   "source": [
    "One of the major challenge in digital industry is to find whether a comment made on an article,blog,post, or a video is a genuine user comment or just an advertisement made to promote something. Here we have a dataset containing comments( both genuine and advertisement) with their corresponding tag. We need to suggest a solution to the company that identifies whther a comment made is an advertisment or a genuine comment.\n",
    "\n",
    "The target is to predict whether a comment is an advertisement or not."
   ]
  },
  {
   "cell_type": "code",
   "execution_count": 488,
   "metadata": {},
   "outputs": [],
   "source": [
    "import numpy as np\n",
    "import pandas as pd"
   ]
  },
  {
   "cell_type": "code",
   "execution_count": 489,
   "metadata": {},
   "outputs": [],
   "source": [
    "ad= pd.read_excel('Challenge2.xlsx')"
   ]
  },
  {
   "cell_type": "code",
   "execution_count": 490,
   "metadata": {},
   "outputs": [
    {
     "data": {
      "text/html": [
       "<div>\n",
       "<style scoped>\n",
       "    .dataframe tbody tr th:only-of-type {\n",
       "        vertical-align: middle;\n",
       "    }\n",
       "\n",
       "    .dataframe tbody tr th {\n",
       "        vertical-align: top;\n",
       "    }\n",
       "\n",
       "    .dataframe thead th {\n",
       "        text-align: right;\n",
       "    }\n",
       "</style>\n",
       "<table border=\"1\" class=\"dataframe\">\n",
       "  <thead>\n",
       "    <tr style=\"text-align: right;\">\n",
       "      <th></th>\n",
       "      <th>COMMENT_ID</th>\n",
       "      <th>AUTHOR</th>\n",
       "      <th>DATE</th>\n",
       "      <th>CONTENT</th>\n",
       "      <th>CLASS</th>\n",
       "    </tr>\n",
       "  </thead>\n",
       "  <tbody>\n",
       "    <tr>\n",
       "      <th>0</th>\n",
       "      <td>LZQPQhLyRh80UYxNuaDWhIGQYNQ96IuCg-AYWqNPjpU</td>\n",
       "      <td>Julius NM</td>\n",
       "      <td>2013-11-07T06:20:48</td>\n",
       "      <td>Huh, anyway check out this you[tube] channel: kobyoshi02</td>\n",
       "      <td>1</td>\n",
       "    </tr>\n",
       "    <tr>\n",
       "      <th>1</th>\n",
       "      <td>z13fwbwp1oujthgqj04chlngpvzmtt3r3dw</td>\n",
       "      <td>GsMega</td>\n",
       "      <td>2013-11-10T16:05:38</td>\n",
       "      <td>watch?v=vtaRGgvGtWQ   Check this out .ï»¿</td>\n",
       "      <td>1</td>\n",
       "    </tr>\n",
       "    <tr>\n",
       "      <th>2</th>\n",
       "      <td>z13lfzdo5vmdi1cm123te5uz2mqig1brz04</td>\n",
       "      <td>ferleck ferles</td>\n",
       "      <td>2013-11-27T21:39:24</td>\n",
       "      <td>Subscribe to my channel ï»¿</td>\n",
       "      <td>1</td>\n",
       "    </tr>\n",
       "    <tr>\n",
       "      <th>3</th>\n",
       "      <td>z12avveb4xqiirsix04chxviiljryduwxg0</td>\n",
       "      <td>BeBe Burkey</td>\n",
       "      <td>2013-11-28T16:30:13</td>\n",
       "      <td>and u should.d check my channel and tell me what I should do next!ï»¿</td>\n",
       "      <td>1</td>\n",
       "    </tr>\n",
       "    <tr>\n",
       "      <th>4</th>\n",
       "      <td>z13xit5agm2zyh4f523rst2gowmbx5bml</td>\n",
       "      <td>Lone Twistt</td>\n",
       "      <td>2013-11-28T17:34:55</td>\n",
       "      <td>Once you have started reading do not stop. If you do not subscribe to me  within one day you an...</td>\n",
       "      <td>1</td>\n",
       "    </tr>\n",
       "    <tr>\n",
       "      <th>5</th>\n",
       "      <td>z13pejoiuozwxtdu323dspopnri4xts0f</td>\n",
       "      <td>Archie Lewis</td>\n",
       "      <td>2013-11-28T17:54:39</td>\n",
       "      <td>https://twitter.com/GBphotographyGBï»¿</td>\n",
       "      <td>1</td>\n",
       "    </tr>\n",
       "    <tr>\n",
       "      <th>6</th>\n",
       "      <td>z12oglnpoq3gjh4om04cfdlbgp2uepyytpw0k</td>\n",
       "      <td>Francisco Nora</td>\n",
       "      <td>2013-11-28T19:52:35</td>\n",
       "      <td>please like :D https://premium.easypromosapp.com/voteme/19924/616375350ï»¿</td>\n",
       "      <td>1</td>\n",
       "    </tr>\n",
       "    <tr>\n",
       "      <th>7</th>\n",
       "      <td>z13phrmwrkfisn5er22eyrbpbvaiwfvwf04</td>\n",
       "      <td>Gaming and Stuff PRO</td>\n",
       "      <td>2013-11-28T21:14:13</td>\n",
       "      <td>Hello! Do you like gaming, art videos, scientific experiments, tutorials,  lyrics videos, and mu...</td>\n",
       "      <td>1</td>\n",
       "    </tr>\n",
       "    <tr>\n",
       "      <th>8</th>\n",
       "      <td>z13bgdvyluihfv11i22rgxwhuvabzz1os04</td>\n",
       "      <td>Zielimeek21</td>\n",
       "      <td>2013-11-28T21:49:00</td>\n",
       "      <td>I'm only checking the viewsï»¿</td>\n",
       "      <td>0</td>\n",
       "    </tr>\n",
       "    <tr>\n",
       "      <th>9</th>\n",
       "      <td>z12ohdxjtsatvppjb04cctprprb1slnxdf4</td>\n",
       "      <td>OutrightIgnite</td>\n",
       "      <td>2013-12-01T03:30:55</td>\n",
       "      <td>Show your AUBURN PRIDE HERE: http://www.teespring.com/tigermeathoodieï»¿</td>\n",
       "      <td>1</td>\n",
       "    </tr>\n",
       "  </tbody>\n",
       "</table>\n",
       "</div>"
      ],
      "text/plain": [
       "                                    COMMENT_ID                AUTHOR  \\\n",
       "0  LZQPQhLyRh80UYxNuaDWhIGQYNQ96IuCg-AYWqNPjpU             Julius NM   \n",
       "1          z13fwbwp1oujthgqj04chlngpvzmtt3r3dw                GsMega   \n",
       "2          z13lfzdo5vmdi1cm123te5uz2mqig1brz04        ferleck ferles   \n",
       "3          z12avveb4xqiirsix04chxviiljryduwxg0           BeBe Burkey   \n",
       "4            z13xit5agm2zyh4f523rst2gowmbx5bml           Lone Twistt   \n",
       "5            z13pejoiuozwxtdu323dspopnri4xts0f          Archie Lewis   \n",
       "6        z12oglnpoq3gjh4om04cfdlbgp2uepyytpw0k        Francisco Nora   \n",
       "7          z13phrmwrkfisn5er22eyrbpbvaiwfvwf04  Gaming and Stuff PRO   \n",
       "8          z13bgdvyluihfv11i22rgxwhuvabzz1os04           Zielimeek21   \n",
       "9          z12ohdxjtsatvppjb04cctprprb1slnxdf4        OutrightIgnite   \n",
       "\n",
       "                  DATE  \\\n",
       "0  2013-11-07T06:20:48   \n",
       "1  2013-11-10T16:05:38   \n",
       "2  2013-11-27T21:39:24   \n",
       "3  2013-11-28T16:30:13   \n",
       "4  2013-11-28T17:34:55   \n",
       "5  2013-11-28T17:54:39   \n",
       "6  2013-11-28T19:52:35   \n",
       "7  2013-11-28T21:14:13   \n",
       "8  2013-11-28T21:49:00   \n",
       "9  2013-12-01T03:30:55   \n",
       "\n",
       "                                                                                               CONTENT  \\\n",
       "0                                             Huh, anyway check out this you[tube] channel: kobyoshi02   \n",
       "1                                                            watch?v=vtaRGgvGtWQ   Check this out .ï»¿   \n",
       "2                                                                          Subscribe to my channel ï»¿   \n",
       "3                                and u should.d check my channel and tell me what I should do next!ï»¿   \n",
       "4   Once you have started reading do not stop. If you do not subscribe to me  within one day you an...   \n",
       "5                                                               https://twitter.com/GBphotographyGBï»¿   \n",
       "6                           please like :D https://premium.easypromosapp.com/voteme/19924/616375350ï»¿   \n",
       "7  Hello! Do you like gaming, art videos, scientific experiments, tutorials,  lyrics videos, and mu...   \n",
       "8                                                                       I'm only checking the viewsï»¿   \n",
       "9                             Show your AUBURN PRIDE HERE: http://www.teespring.com/tigermeathoodieï»¿   \n",
       "\n",
       "   CLASS  \n",
       "0      1  \n",
       "1      1  \n",
       "2      1  \n",
       "3      1  \n",
       "4      1  \n",
       "5      1  \n",
       "6      1  \n",
       "7      1  \n",
       "8      0  \n",
       "9      1  "
      ]
     },
     "execution_count": 490,
     "metadata": {},
     "output_type": "execute_result"
    }
   ],
   "source": [
    "ad.head(10)"
   ]
  },
  {
   "cell_type": "code",
   "execution_count": 491,
   "metadata": {},
   "outputs": [
    {
     "name": "stdout",
     "output_type": "stream",
     "text": [
      "<class 'pandas.core.frame.DataFrame'>\n",
      "RangeIndex: 1156 entries, 0 to 1155\n",
      "Data columns (total 5 columns):\n",
      "COMMENT_ID    1156 non-null object\n",
      "AUTHOR        1156 non-null object\n",
      "DATE          1018 non-null object\n",
      "CONTENT       1156 non-null object\n",
      "CLASS         1156 non-null int64\n",
      "dtypes: int64(1), object(4)\n",
      "memory usage: 45.2+ KB\n"
     ]
    }
   ],
   "source": [
    "ad.info()"
   ]
  },
  {
   "cell_type": "code",
   "execution_count": 492,
   "metadata": {},
   "outputs": [
    {
     "data": {
      "text/plain": [
       "1093"
      ]
     },
     "execution_count": 492,
     "metadata": {},
     "output_type": "execute_result"
    }
   ],
   "source": [
    "ad['AUTHOR'].nunique()"
   ]
  },
  {
   "cell_type": "markdown",
   "metadata": {},
   "source": [
    "## Exploratory Data Analysis"
   ]
  },
  {
   "cell_type": "code",
   "execution_count": 493,
   "metadata": {},
   "outputs": [],
   "source": [
    "import matplotlib.pyplot as plt\n",
    "import seaborn as sns\n",
    "\n",
    "%matplotlib inline"
   ]
  },
  {
   "cell_type": "code",
   "execution_count": 494,
   "metadata": {},
   "outputs": [
    {
     "data": {
      "text/plain": [
       "<matplotlib.axes._subplots.AxesSubplot at 0x7f9d12063a58>"
      ]
     },
     "execution_count": 494,
     "metadata": {},
     "output_type": "execute_result"
    },
    {
     "data": {
      "image/png": "[encoded data removed]",
      "text/plain": [
       "<Figure size 432x288 with 1 Axes>"
      ]
     },
     "metadata": {},
     "output_type": "display_data"
    }
   ],
   "source": [
    "sns.countplot(x='AUTHOR', data=ad, hue='CLASS')"
   ]
  },
  {
   "cell_type": "markdown",
   "metadata": {},
   "source": [
    "An author with multiple messages is slightly more likely to be an advertiser"
   ]
  },
  {
   "cell_type": "code",
   "execution_count": 495,
   "metadata": {},
   "outputs": [],
   "source": [
    "import nltk"
   ]
  },
  {
   "cell_type": "markdown",
   "metadata": {},
   "source": [
    "Checking the realtion between presence of a url in text and it being an advertisement. Presence of a url is checked by checking for words 'http' and 'https'."
   ]
  },
  {
   "cell_type": "code",
   "execution_count": 496,
   "metadata": {},
   "outputs": [],
   "source": [
    "def containsURL (msg):\n",
    "    if 'http' in msg: \n",
    "        return True\n",
    "    elif 'https' in msg:\n",
    "        return True\n",
    "    else:\n",
    "        return False"
   ]
  },
  {
   "cell_type": "code",
   "execution_count": 497,
   "metadata": {},
   "outputs": [],
   "source": [
    "ad['CONTAINS_URL']=ad['CONTENT'].apply(lambda x: containsURL(x))"
   ]
  },
  {
   "cell_type": "code",
   "execution_count": 498,
   "metadata": {},
   "outputs": [
    {
     "data": {
      "text/html": [
       "<div>\n",
       "<style scoped>\n",
       "    .dataframe tbody tr th:only-of-type {\n",
       "        vertical-align: middle;\n",
       "    }\n",
       "\n",
       "    .dataframe tbody tr th {\n",
       "        vertical-align: top;\n",
       "    }\n",
       "\n",
       "    .dataframe thead th {\n",
       "        text-align: right;\n",
       "    }\n",
       "</style>\n",
       "<table border=\"1\" class=\"dataframe\">\n",
       "  <thead>\n",
       "    <tr style=\"text-align: right;\">\n",
       "      <th></th>\n",
       "      <th>COMMENT_ID</th>\n",
       "      <th>AUTHOR</th>\n",
       "      <th>DATE</th>\n",
       "      <th>CONTENT</th>\n",
       "      <th>CLASS</th>\n",
       "      <th>CONTAINS_URL</th>\n",
       "    </tr>\n",
       "  </thead>\n",
       "  <tbody>\n",
       "    <tr>\n",
       "      <th>0</th>\n",
       "      <td>LZQPQhLyRh80UYxNuaDWhIGQYNQ96IuCg-AYWqNPjpU</td>\n",
       "      <td>Julius NM</td>\n",
       "      <td>2013-11-07T06:20:48</td>\n",
       "      <td>Huh, anyway check out this you[tube] channel: kobyoshi02</td>\n",
       "      <td>1</td>\n",
       "      <td>False</td>\n",
       "    </tr>\n",
       "    <tr>\n",
       "      <th>1</th>\n",
       "      <td>z13fwbwp1oujthgqj04chlngpvzmtt3r3dw</td>\n",
       "      <td>GsMega</td>\n",
       "      <td>2013-11-10T16:05:38</td>\n",
       "      <td>watch?v=vtaRGgvGtWQ   Check this out .ï»¿</td>\n",
       "      <td>1</td>\n",
       "      <td>False</td>\n",
       "    </tr>\n",
       "    <tr>\n",
       "      <th>2</th>\n",
       "      <td>z13lfzdo5vmdi1cm123te5uz2mqig1brz04</td>\n",
       "      <td>ferleck ferles</td>\n",
       "      <td>2013-11-27T21:39:24</td>\n",
       "      <td>Subscribe to my channel ï»¿</td>\n",
       "      <td>1</td>\n",
       "      <td>False</td>\n",
       "    </tr>\n",
       "    <tr>\n",
       "      <th>3</th>\n",
       "      <td>z12avveb4xqiirsix04chxviiljryduwxg0</td>\n",
       "      <td>BeBe Burkey</td>\n",
       "      <td>2013-11-28T16:30:13</td>\n",
       "      <td>and u should.d check my channel and tell me what I should do next!ï»¿</td>\n",
       "      <td>1</td>\n",
       "      <td>False</td>\n",
       "    </tr>\n",
       "    <tr>\n",
       "      <th>4</th>\n",
       "      <td>z13xit5agm2zyh4f523rst2gowmbx5bml</td>\n",
       "      <td>Lone Twistt</td>\n",
       "      <td>2013-11-28T17:34:55</td>\n",
       "      <td>Once you have started reading do not stop. If you do not subscribe to me  within one day you an...</td>\n",
       "      <td>1</td>\n",
       "      <td>False</td>\n",
       "    </tr>\n",
       "  </tbody>\n",
       "</table>\n",
       "</div>"
      ],
      "text/plain": [
       "                                    COMMENT_ID          AUTHOR  \\\n",
       "0  LZQPQhLyRh80UYxNuaDWhIGQYNQ96IuCg-AYWqNPjpU       Julius NM   \n",
       "1          z13fwbwp1oujthgqj04chlngpvzmtt3r3dw          GsMega   \n",
       "2          z13lfzdo5vmdi1cm123te5uz2mqig1brz04  ferleck ferles   \n",
       "3          z12avveb4xqiirsix04chxviiljryduwxg0     BeBe Burkey   \n",
       "4            z13xit5agm2zyh4f523rst2gowmbx5bml     Lone Twistt   \n",
       "\n",
       "                  DATE  \\\n",
       "0  2013-11-07T06:20:48   \n",
       "1  2013-11-10T16:05:38   \n",
       "2  2013-11-27T21:39:24   \n",
       "3  2013-11-28T16:30:13   \n",
       "4  2013-11-28T17:34:55   \n",
       "\n",
       "                                                                                               CONTENT  \\\n",
       "0                                             Huh, anyway check out this you[tube] channel: kobyoshi02   \n",
       "1                                                            watch?v=vtaRGgvGtWQ   Check this out .ï»¿   \n",
       "2                                                                          Subscribe to my channel ï»¿   \n",
       "3                                and u should.d check my channel and tell me what I should do next!ï»¿   \n",
       "4   Once you have started reading do not stop. If you do not subscribe to me  within one day you an...   \n",
       "\n",
       "   CLASS  CONTAINS_URL  \n",
       "0      1         False  \n",
       "1      1         False  \n",
       "2      1         False  \n",
       "3      1         False  \n",
       "4      1         False  "
      ]
     },
     "execution_count": 498,
     "metadata": {},
     "output_type": "execute_result"
    }
   ],
   "source": [
    "ad.head()"
   ]
  },
  {
   "cell_type": "code",
   "execution_count": 499,
   "metadata": {},
   "outputs": [
    {
     "data": {
      "text/plain": [
       "<matplotlib.axes._subplots.AxesSubplot at 0x7f9d123eeb00>"
      ]
     },
     "execution_count": 499,
     "metadata": {},
     "output_type": "execute_result"
    },
    {
     "data": {
      "image/png": "[encoded data removed]",
      "text/plain": [
       "<Figure size 432x288 with 1 Axes>"
      ]
     },
     "metadata": {},
     "output_type": "display_data"
    }
   ],
   "source": [
    "sns.countplot(x='CONTAINS_URL', data=ad, hue='CLASS')"
   ]
  },
  {
   "cell_type": "markdown",
   "metadata": {},
   "source": [
    "A comment containing a url is likely to be an advertisement."
   ]
  },
  {
   "cell_type": "code",
   "execution_count": 500,
   "metadata": {},
   "outputs": [],
   "source": [
    "def containsChannel (msg):\n",
    "    if 'channel' in msg:\n",
    "        return True\n",
    "    else:\n",
    "        return False"
   ]
  },
  {
   "cell_type": "code",
   "execution_count": 501,
   "metadata": {},
   "outputs": [],
   "source": [
    "ad['CONTAINS_CH']=ad['CONTENT'].apply(lambda x: containsURL(x))"
   ]
  },
  {
   "cell_type": "code",
   "execution_count": 502,
   "metadata": {},
   "outputs": [
    {
     "data": {
      "text/plain": [
       "<matplotlib.axes._subplots.AxesSubplot at 0x7f9d109ad860>"
      ]
     },
     "execution_count": 502,
     "metadata": {},
     "output_type": "execute_result"
    },
    {
     "data": {
      "image/png": "[encoded data removed]",
      "text/plain": [
       "<Figure size 432x288 with 1 Axes>"
      ]
     },
     "metadata": {},
     "output_type": "display_data"
    }
   ],
   "source": [
    "sns.countplot(x='CONTAINS_CH', data=ad, hue='CLASS')"
   ]
  },
  {
   "cell_type": "markdown",
   "metadata": {},
   "source": [
    "A comment containing the word 'channel' is also likely to be advertisement."
   ]
  },
  {
   "cell_type": "code",
   "execution_count": 503,
   "metadata": {},
   "outputs": [],
   "source": [
    "ad['CONTENT_LEN']=ad['CONTENT'].apply(lambda x: len(x))"
   ]
  },
  {
   "cell_type": "code",
   "execution_count": 504,
   "metadata": {},
   "outputs": [
    {
     "data": {
      "image/png": "[encoded data removed]",
      "text/plain": [
       "<Figure size 432x216 with 2 Axes>"
      ]
     },
     "metadata": {},
     "output_type": "display_data"
    }
   ],
   "source": [
    "g=sns.FacetGrid(data=ad, col='CLASS')\n",
    "g=g.map(plt.hist,'CONTENT_LEN')"
   ]
  },
  {
   "cell_type": "code",
   "execution_count": null,
   "metadata": {},
   "outputs": [],
   "source": []
  },
  {
   "cell_type": "markdown",
   "metadata": {},
   "source": [
    "Non-advertisement comments rarely go over 300 characters."
   ]
  },
  {
   "cell_type": "code",
   "execution_count": 505,
   "metadata": {},
   "outputs": [],
   "source": [
    "def triggers(msg):\n",
    "    msg= msg.lower()\n",
    "    if 'http' in msg:\n",
    "        return True\n",
    "    elif 'www' in msg:\n",
    "        return True\n",
    "    elif '.com' in msg:\n",
    "        return True\n",
    "    elif 'subscribe' in msg:\n",
    "        return True\n",
    "    elif 'channel' in msg:\n",
    "        return True\n",
    "    elif 'check' in msg and 'view' not in msg:\n",
    "        return True\n",
    "    elif 'like' in msg:\n",
    "        return True\n",
    "    elif 'follow' in msg:\n",
    "        return True\n",
    "    elif 'visit' in msg:\n",
    "        return True\n",
    "    else:\n",
    "        return False"
   ]
  },
  {
   "cell_type": "code",
   "execution_count": 506,
   "metadata": {},
   "outputs": [],
   "source": [
    "ad['triggered']=ad['CONTENT'].apply(lambda x: triggers(x))"
   ]
  },
  {
   "cell_type": "code",
   "execution_count": 507,
   "metadata": {},
   "outputs": [
    {
     "data": {
      "text/plain": [
       "<matplotlib.axes._subplots.AxesSubplot at 0x7f9d16df92e8>"
      ]
     },
     "execution_count": 507,
     "metadata": {},
     "output_type": "execute_result"
    },
    {
     "data": {
      "image/png": "[encoded data removed]",
      "text/plain": [
       "<Figure size 432x288 with 1 Axes>"
      ]
     },
     "metadata": {},
     "output_type": "display_data"
    }
   ],
   "source": [
    "sns.countplot(x='triggered', data=ad, hue='CLASS')"
   ]
  },
  {
   "cell_type": "code",
   "execution_count": 508,
   "metadata": {},
   "outputs": [
    {
     "data": {
      "text/plain": [
       "12                           I dont even watch it anymore i just come here to check on 2 Billion or notï»¿\n",
       "17                                                                             2 billion....Coming soonï»¿\n",
       "37                                                             969,210 dislikes like dislike themselvesï»¿\n",
       "50                               PSY - GANGNAM STYLE (ê°•ë‚¨ìŠ¤íƒ€ì¼) M/V: http://youtu.be/9bZkp7q19f0ï»¿\n",
       "61     they said this video are not deserve 2billion views , while they keep  visiting it to watch the ...\n",
       "73                               PSY - GANGNAM STYLE (ê°•ë‚¨ìŠ¤íƒ€ì¼) M/V: http://youtu.be/9bZkp7q19f0ï»¿\n",
       "82                 Stupid people... this video doesnt have 2 billion visits. Have 2 thousands  millionsï»¿\n",
       "110                                                The Guy in the yellow suit kinda looks like Jae-suk ï»¿\n",
       "125                                                                  The most liked video on YouTube...ï»¿\n",
       "127                                   Lol...I dunno how this joke gets a lot of likes, but whatever. xDï»¿\n",
       "162                                    1 millioon dislikesssssssssssssssssssssssssssssssss.............ï»¿\n",
       "167                                                 1 million dislikes!EPIC FAIL(ready for you fanboys)ï»¿\n",
       "206                                  Why does a song like this have more views than Michael Jackson SMHï»¿\n",
       "207     Something to dance to, even if your sad JUST dance!!   PSY - GANGNAM STYLE (ê°•ë‚¨ìŠ¤íƒ€ì¼) M/...\n",
       "232    Its a good song and i like her video clip, because its a bout a girl that  her airplane crashed ...\n",
       "237                           She named the tiger Kitty Purry  No, seriously, she did, check the video ï»¿\n",
       "250                                          katy perry  just stop it and dont do a song i dont like itï»¿\n",
       "270                                               I love this shit but I disliked it because it's sucksï»¿\n",
       "301                                                                            I really like this song.ï»¿\n",
       "325                       If only I had the body like Katy Perry :)). She looks so hot. I love her  ^^!ï»¿\n",
       "Name: CONTENT, dtype: object"
      ]
     },
     "execution_count": 508,
     "metadata": {},
     "output_type": "execute_result"
    }
   ],
   "source": [
    "pd.options.display.max_colwidth = 100\n",
    "ad[(ad['triggered']==True) & (ad['CLASS']==0)]['CONTENT'].head(20)"
   ]
  },
  {
   "cell_type": "code",
   "execution_count": 509,
   "metadata": {},
   "outputs": [
    {
     "data": {
      "text/plain": [
       "'This is the best, funny and viral video of history (youtube) THE TRUEï»¿'"
      ]
     },
     "execution_count": 509,
     "metadata": {},
     "output_type": "execute_result"
    }
   ],
   "source": [
    "ad['CONTENT'][103]"
   ]
  },
  {
   "cell_type": "code",
   "execution_count": 510,
   "metadata": {},
   "outputs": [],
   "source": [
    "from sklearn.metrics import classification_report, confusion_matrix"
   ]
  },
  {
   "cell_type": "code",
   "execution_count": 511,
   "metadata": {},
   "outputs": [
    {
     "name": "stdout",
     "output_type": "stream",
     "text": [
      "[[496  75]\n",
      " [ 57 528]]\n"
     ]
    }
   ],
   "source": [
    "print(confusion_matrix(ad['CLASS'], ad['triggered']))"
   ]
  },
  {
   "cell_type": "code",
   "execution_count": 512,
   "metadata": {},
   "outputs": [
    {
     "name": "stdout",
     "output_type": "stream",
     "text": [
      "             precision    recall  f1-score   support\n",
      "\n",
      "          0       0.90      0.87      0.88       571\n",
      "          1       0.88      0.90      0.89       585\n",
      "\n",
      "avg / total       0.89      0.89      0.89      1156\n",
      "\n"
     ]
    }
   ],
   "source": [
    "print(classification_report(ad['CLASS'], ad['triggered']))"
   ]
  },
  {
   "cell_type": "markdown",
   "metadata": {},
   "source": [
    "## Text pre-processing"
   ]
  },
  {
   "cell_type": "markdown",
   "metadata": {},
   "source": [
    "Removing punctutaion and stopwords from CONTENT"
   ]
  },
  {
   "cell_type": "code",
   "execution_count": 513,
   "metadata": {},
   "outputs": [],
   "source": [
    "from nltk.corpus import stopwords"
   ]
  },
  {
   "cell_type": "code",
   "execution_count": 514,
   "metadata": {},
   "outputs": [
    {
     "name": "stdout",
     "output_type": "stream",
     "text": [
      "[nltk_data] Downloading package stopwords to /home/rajat1/nltk_data...\n",
      "[nltk_data]   Package stopwords is already up-to-date!\n"
     ]
    },
    {
     "data": {
      "text/plain": [
       "True"
      ]
     },
     "execution_count": 514,
     "metadata": {},
     "output_type": "execute_result"
    }
   ],
   "source": [
    "nltk.download('stopwords')"
   ]
  },
  {
   "cell_type": "code",
   "execution_count": 515,
   "metadata": {},
   "outputs": [],
   "source": [
    "import string"
   ]
  },
  {
   "cell_type": "code",
   "execution_count": 516,
   "metadata": {},
   "outputs": [],
   "source": [
    "def preprocess(content):\n",
    "    # removing punctuation\n",
    "    nopunc = [char for char in content if char not in string.punctuation]\n",
    "    \n",
    "    # joining words back for better results\n",
    "    nopunc = ''.join(nopunc)\n",
    "    \n",
    "    # removing stopwords\n",
    "    return [word for word in nopunc.split() if word.lower() not in stopwords.words('english')]"
   ]
  },
  {
   "cell_type": "code",
   "execution_count": 517,
   "metadata": {},
   "outputs": [],
   "source": [
    "ad['processed']=ad['CONTENT'].apply(lambda x: preprocess(x))"
   ]
  },
  {
   "cell_type": "code",
   "execution_count": 518,
   "metadata": {},
   "outputs": [
    {
     "data": {
      "text/html": [
       "<div>\n",
       "<style scoped>\n",
       "    .dataframe tbody tr th:only-of-type {\n",
       "        vertical-align: middle;\n",
       "    }\n",
       "\n",
       "    .dataframe tbody tr th {\n",
       "        vertical-align: top;\n",
       "    }\n",
       "\n",
       "    .dataframe thead th {\n",
       "        text-align: right;\n",
       "    }\n",
       "</style>\n",
       "<table border=\"1\" class=\"dataframe\">\n",
       "  <thead>\n",
       "    <tr style=\"text-align: right;\">\n",
       "      <th></th>\n",
       "      <th>COMMENT_ID</th>\n",
       "      <th>AUTHOR</th>\n",
       "      <th>DATE</th>\n",
       "      <th>CONTENT</th>\n",
       "      <th>CLASS</th>\n",
       "      <th>CONTAINS_URL</th>\n",
       "      <th>CONTAINS_CH</th>\n",
       "      <th>CONTENT_LEN</th>\n",
       "      <th>triggered</th>\n",
       "      <th>processed</th>\n",
       "    </tr>\n",
       "  </thead>\n",
       "  <tbody>\n",
       "    <tr>\n",
       "      <th>0</th>\n",
       "      <td>LZQPQhLyRh80UYxNuaDWhIGQYNQ96IuCg-AYWqNPjpU</td>\n",
       "      <td>Julius NM</td>\n",
       "      <td>2013-11-07T06:20:48</td>\n",
       "      <td>Huh, anyway check out this you[tube] channel: kobyoshi02</td>\n",
       "      <td>1</td>\n",
       "      <td>False</td>\n",
       "      <td>False</td>\n",
       "      <td>56</td>\n",
       "      <td>True</td>\n",
       "      <td>[Huh, anyway, check, youtube, channel, kobyoshi02]</td>\n",
       "    </tr>\n",
       "    <tr>\n",
       "      <th>1</th>\n",
       "      <td>z13fwbwp1oujthgqj04chlngpvzmtt3r3dw</td>\n",
       "      <td>GsMega</td>\n",
       "      <td>2013-11-10T16:05:38</td>\n",
       "      <td>watch?v=vtaRGgvGtWQ   Check this out .ï»¿</td>\n",
       "      <td>1</td>\n",
       "      <td>False</td>\n",
       "      <td>False</td>\n",
       "      <td>41</td>\n",
       "      <td>True</td>\n",
       "      <td>[watchvvtaRGgvGtWQ, Check, ï»¿]</td>\n",
       "    </tr>\n",
       "    <tr>\n",
       "      <th>2</th>\n",
       "      <td>z13lfzdo5vmdi1cm123te5uz2mqig1brz04</td>\n",
       "      <td>ferleck ferles</td>\n",
       "      <td>2013-11-27T21:39:24</td>\n",
       "      <td>Subscribe to my channel ï»¿</td>\n",
       "      <td>1</td>\n",
       "      <td>False</td>\n",
       "      <td>False</td>\n",
       "      <td>27</td>\n",
       "      <td>True</td>\n",
       "      <td>[Subscribe, channel, ï»¿]</td>\n",
       "    </tr>\n",
       "    <tr>\n",
       "      <th>3</th>\n",
       "      <td>z12avveb4xqiirsix04chxviiljryduwxg0</td>\n",
       "      <td>BeBe Burkey</td>\n",
       "      <td>2013-11-28T16:30:13</td>\n",
       "      <td>and u should.d check my channel and tell me what I should do next!ï»¿</td>\n",
       "      <td>1</td>\n",
       "      <td>False</td>\n",
       "      <td>False</td>\n",
       "      <td>69</td>\n",
       "      <td>True</td>\n",
       "      <td>[u, shouldd, check, channel, tell, nextï»¿]</td>\n",
       "    </tr>\n",
       "    <tr>\n",
       "      <th>4</th>\n",
       "      <td>z13xit5agm2zyh4f523rst2gowmbx5bml</td>\n",
       "      <td>Lone Twistt</td>\n",
       "      <td>2013-11-28T17:34:55</td>\n",
       "      <td>Once you have started reading do not stop. If you do not subscribe to me  within one day you an...</td>\n",
       "      <td>1</td>\n",
       "      <td>False</td>\n",
       "      <td>False</td>\n",
       "      <td>181</td>\n",
       "      <td>True</td>\n",
       "      <td>[started, reading, stop, subscribe, within, one, day, youre, entire, family, die, want, stay, al...</td>\n",
       "    </tr>\n",
       "  </tbody>\n",
       "</table>\n",
       "</div>"
      ],
      "text/plain": [
       "                                    COMMENT_ID          AUTHOR  \\\n",
       "0  LZQPQhLyRh80UYxNuaDWhIGQYNQ96IuCg-AYWqNPjpU       Julius NM   \n",
       "1          z13fwbwp1oujthgqj04chlngpvzmtt3r3dw          GsMega   \n",
       "2          z13lfzdo5vmdi1cm123te5uz2mqig1brz04  ferleck ferles   \n",
       "3          z12avveb4xqiirsix04chxviiljryduwxg0     BeBe Burkey   \n",
       "4            z13xit5agm2zyh4f523rst2gowmbx5bml     Lone Twistt   \n",
       "\n",
       "                  DATE  \\\n",
       "0  2013-11-07T06:20:48   \n",
       "1  2013-11-10T16:05:38   \n",
       "2  2013-11-27T21:39:24   \n",
       "3  2013-11-28T16:30:13   \n",
       "4  2013-11-28T17:34:55   \n",
       "\n",
       "                                                                                               CONTENT  \\\n",
       "0                                             Huh, anyway check out this you[tube] channel: kobyoshi02   \n",
       "1                                                            watch?v=vtaRGgvGtWQ   Check this out .ï»¿   \n",
       "2                                                                          Subscribe to my channel ï»¿   \n",
       "3                                and u should.d check my channel and tell me what I should do next!ï»¿   \n",
       "4   Once you have started reading do not stop. If you do not subscribe to me  within one day you an...   \n",
       "\n",
       "   CLASS  CONTAINS_URL  CONTAINS_CH  CONTENT_LEN  triggered  \\\n",
       "0      1         False        False           56       True   \n",
       "1      1         False        False           41       True   \n",
       "2      1         False        False           27       True   \n",
       "3      1         False        False           69       True   \n",
       "4      1         False        False          181       True   \n",
       "\n",
       "                                                                                             processed  \n",
       "0                                                   [Huh, anyway, check, youtube, channel, kobyoshi02]  \n",
       "1                                                                      [watchvvtaRGgvGtWQ, Check, ï»¿]  \n",
       "2                                                                            [Subscribe, channel, ï»¿]  \n",
       "3                                                          [u, shouldd, check, channel, tell, nextï»¿]  \n",
       "4  [started, reading, stop, subscribe, within, one, day, youre, entire, family, die, want, stay, al...  "
      ]
     },
     "execution_count": 518,
     "metadata": {},
     "output_type": "execute_result"
    }
   ],
   "source": [
    "ad.head()"
   ]
  },
  {
   "cell_type": "markdown",
   "metadata": {},
   "source": [
    "Vectorization"
   ]
  },
  {
   "cell_type": "code",
   "execution_count": 519,
   "metadata": {},
   "outputs": [],
   "source": [
    "from sklearn.feature_extraction.text import CountVectorizer"
   ]
  },
  {
   "cell_type": "code",
   "execution_count": 520,
   "metadata": {},
   "outputs": [],
   "source": [
    "bow_transformer = CountVectorizer(analyzer=preprocess).fit(ad['processed'])"
   ]
  },
  {
   "cell_type": "code",
   "execution_count": 521,
   "metadata": {},
   "outputs": [],
   "source": [
    "messages_bow = bow_transformer.transform(ad['processed'])"
   ]
  },
  {
   "cell_type": "code",
   "execution_count": 522,
   "metadata": {},
   "outputs": [],
   "source": [
    "# TF-IDF Transformation\n",
    "from sklearn.feature_extraction.text import TfidfTransformer"
   ]
  },
  {
   "cell_type": "code",
   "execution_count": 523,
   "metadata": {},
   "outputs": [],
   "source": [
    "tfidf_transformer = TfidfTransformer().fit(messages_bow)\n",
    "messages_tfidf = tfidf_transformer.transform(messages_bow)"
   ]
  },
  {
   "cell_type": "markdown",
   "metadata": {},
   "source": [
    "## Training the model"
   ]
  },
  {
   "cell_type": "code",
   "execution_count": 524,
   "metadata": {},
   "outputs": [],
   "source": [
    "from sklearn.naive_bayes import MultinomialNB\n",
    "from sklearn.model_selection import train_test_split"
   ]
  },
  {
   "cell_type": "code",
   "execution_count": 525,
   "metadata": {},
   "outputs": [],
   "source": [
    "X_train, X_test, y_train, y_test=train_test_split(messages_tfidf, ad['CLASS'], test_size=0.33, random_state=42)\n",
    "\n",
    "ad_detect=  MultinomialNB().fit(X_train, y_train)"
   ]
  },
  {
   "cell_type": "code",
   "execution_count": 526,
   "metadata": {},
   "outputs": [],
   "source": [
    "predictions= ad_detect.predict(X_test)"
   ]
  },
  {
   "cell_type": "markdown",
   "metadata": {},
   "source": [
    "Checking the predictions"
   ]
  },
  {
   "cell_type": "code",
   "execution_count": 527,
   "metadata": {},
   "outputs": [],
   "source": [
    "from sklearn.metrics import classification_report, confusion_matrix"
   ]
  },
  {
   "cell_type": "code",
   "execution_count": 528,
   "metadata": {},
   "outputs": [
    {
     "name": "stdout",
     "output_type": "stream",
     "text": [
      "[[184   0]\n",
      " [158  40]]\n"
     ]
    }
   ],
   "source": [
    "print (confusion_matrix(y_test, predictions))"
   ]
  },
  {
   "cell_type": "code",
   "execution_count": 529,
   "metadata": {},
   "outputs": [
    {
     "name": "stdout",
     "output_type": "stream",
     "text": [
      "             precision    recall  f1-score   support\n",
      "\n",
      "          0       0.54      1.00      0.70       184\n",
      "          1       1.00      0.20      0.34       198\n",
      "\n",
      "avg / total       0.78      0.59      0.51       382\n",
      "\n"
     ]
    }
   ],
   "source": [
    "print (classification_report(y_test, predictions))"
   ]
  },
  {
   "cell_type": "markdown",
   "metadata": {},
   "source": [
    "## Data Cleaning"
   ]
  },
  {
   "cell_type": "code",
   "execution_count": 530,
   "metadata": {},
   "outputs": [
    {
     "data": {
      "text/html": [
       "<div>\n",
       "<style scoped>\n",
       "    .dataframe tbody tr th:only-of-type {\n",
       "        vertical-align: middle;\n",
       "    }\n",
       "\n",
       "    .dataframe tbody tr th {\n",
       "        vertical-align: top;\n",
       "    }\n",
       "\n",
       "    .dataframe thead th {\n",
       "        text-align: right;\n",
       "    }\n",
       "</style>\n",
       "<table border=\"1\" class=\"dataframe\">\n",
       "  <thead>\n",
       "    <tr style=\"text-align: right;\">\n",
       "      <th></th>\n",
       "      <th>COMMENT_ID</th>\n",
       "      <th>AUTHOR</th>\n",
       "      <th>DATE</th>\n",
       "      <th>CONTENT</th>\n",
       "      <th>CLASS</th>\n",
       "      <th>CONTAINS_URL</th>\n",
       "      <th>CONTAINS_CH</th>\n",
       "      <th>CONTENT_LEN</th>\n",
       "      <th>triggered</th>\n",
       "      <th>processed</th>\n",
       "    </tr>\n",
       "  </thead>\n",
       "  <tbody>\n",
       "    <tr>\n",
       "      <th>0</th>\n",
       "      <td>LZQPQhLyRh80UYxNuaDWhIGQYNQ96IuCg-AYWqNPjpU</td>\n",
       "      <td>Julius NM</td>\n",
       "      <td>2013-11-07T06:20:48</td>\n",
       "      <td>Huh, anyway check out this you[tube] channel: kobyoshi02</td>\n",
       "      <td>1</td>\n",
       "      <td>False</td>\n",
       "      <td>False</td>\n",
       "      <td>56</td>\n",
       "      <td>True</td>\n",
       "      <td>[Huh, anyway, check, youtube, channel, kobyoshi02]</td>\n",
       "    </tr>\n",
       "    <tr>\n",
       "      <th>1</th>\n",
       "      <td>z13fwbwp1oujthgqj04chlngpvzmtt3r3dw</td>\n",
       "      <td>GsMega</td>\n",
       "      <td>2013-11-10T16:05:38</td>\n",
       "      <td>watch?v=vtaRGgvGtWQ   Check this out .ï»¿</td>\n",
       "      <td>1</td>\n",
       "      <td>False</td>\n",
       "      <td>False</td>\n",
       "      <td>41</td>\n",
       "      <td>True</td>\n",
       "      <td>[watchvvtaRGgvGtWQ, Check, ï»¿]</td>\n",
       "    </tr>\n",
       "    <tr>\n",
       "      <th>2</th>\n",
       "      <td>z13lfzdo5vmdi1cm123te5uz2mqig1brz04</td>\n",
       "      <td>ferleck ferles</td>\n",
       "      <td>2013-11-27T21:39:24</td>\n",
       "      <td>Subscribe to my channel ï»¿</td>\n",
       "      <td>1</td>\n",
       "      <td>False</td>\n",
       "      <td>False</td>\n",
       "      <td>27</td>\n",
       "      <td>True</td>\n",
       "      <td>[Subscribe, channel, ï»¿]</td>\n",
       "    </tr>\n",
       "    <tr>\n",
       "      <th>3</th>\n",
       "      <td>z12avveb4xqiirsix04chxviiljryduwxg0</td>\n",
       "      <td>BeBe Burkey</td>\n",
       "      <td>2013-11-28T16:30:13</td>\n",
       "      <td>and u should.d check my channel and tell me what I should do next!ï»¿</td>\n",
       "      <td>1</td>\n",
       "      <td>False</td>\n",
       "      <td>False</td>\n",
       "      <td>69</td>\n",
       "      <td>True</td>\n",
       "      <td>[u, shouldd, check, channel, tell, nextï»¿]</td>\n",
       "    </tr>\n",
       "    <tr>\n",
       "      <th>4</th>\n",
       "      <td>z13xit5agm2zyh4f523rst2gowmbx5bml</td>\n",
       "      <td>Lone Twistt</td>\n",
       "      <td>2013-11-28T17:34:55</td>\n",
       "      <td>Once you have started reading do not stop. If you do not subscribe to me  within one day you an...</td>\n",
       "      <td>1</td>\n",
       "      <td>False</td>\n",
       "      <td>False</td>\n",
       "      <td>181</td>\n",
       "      <td>True</td>\n",
       "      <td>[started, reading, stop, subscribe, within, one, day, youre, entire, family, die, want, stay, al...</td>\n",
       "    </tr>\n",
       "  </tbody>\n",
       "</table>\n",
       "</div>"
      ],
      "text/plain": [
       "                                    COMMENT_ID          AUTHOR  \\\n",
       "0  LZQPQhLyRh80UYxNuaDWhIGQYNQ96IuCg-AYWqNPjpU       Julius NM   \n",
       "1          z13fwbwp1oujthgqj04chlngpvzmtt3r3dw          GsMega   \n",
       "2          z13lfzdo5vmdi1cm123te5uz2mqig1brz04  ferleck ferles   \n",
       "3          z12avveb4xqiirsix04chxviiljryduwxg0     BeBe Burkey   \n",
       "4            z13xit5agm2zyh4f523rst2gowmbx5bml     Lone Twistt   \n",
       "\n",
       "                  DATE  \\\n",
       "0  2013-11-07T06:20:48   \n",
       "1  2013-11-10T16:05:38   \n",
       "2  2013-11-27T21:39:24   \n",
       "3  2013-11-28T16:30:13   \n",
       "4  2013-11-28T17:34:55   \n",
       "\n",
       "                                                                                               CONTENT  \\\n",
       "0                                             Huh, anyway check out this you[tube] channel: kobyoshi02   \n",
       "1                                                            watch?v=vtaRGgvGtWQ   Check this out .ï»¿   \n",
       "2                                                                          Subscribe to my channel ï»¿   \n",
       "3                                and u should.d check my channel and tell me what I should do next!ï»¿   \n",
       "4   Once you have started reading do not stop. If you do not subscribe to me  within one day you an...   \n",
       "\n",
       "   CLASS  CONTAINS_URL  CONTAINS_CH  CONTENT_LEN  triggered  \\\n",
       "0      1         False        False           56       True   \n",
       "1      1         False        False           41       True   \n",
       "2      1         False        False           27       True   \n",
       "3      1         False        False           69       True   \n",
       "4      1         False        False          181       True   \n",
       "\n",
       "                                                                                             processed  \n",
       "0                                                   [Huh, anyway, check, youtube, channel, kobyoshi02]  \n",
       "1                                                                      [watchvvtaRGgvGtWQ, Check, ï»¿]  \n",
       "2                                                                            [Subscribe, channel, ï»¿]  \n",
       "3                                                          [u, shouldd, check, channel, tell, nextï»¿]  \n",
       "4  [started, reading, stop, subscribe, within, one, day, youre, entire, family, die, want, stay, al...  "
      ]
     },
     "execution_count": 530,
     "metadata": {},
     "output_type": "execute_result"
    }
   ],
   "source": [
    "ad.head()"
   ]
  },
  {
   "cell_type": "code",
   "execution_count": 531,
   "metadata": {},
   "outputs": [
    {
     "data": {
      "text/plain": [
       "0                                               Huh, anyway check out this you[tube] channel: kobyoshi02\n",
       "1                                                              watch?v=vtaRGgvGtWQ   Check this out .ï»¿\n",
       "2                                                                            Subscribe to my channel ï»¿\n",
       "3                                  and u should.d check my channel and tell me what I should do next!ï»¿\n",
       "4     Once you have started reading do not stop. If you do not subscribe to me  within one day you an...\n",
       "5                                                                 https://twitter.com/GBphotographyGBï»¿\n",
       "6                             please like :D https://premium.easypromosapp.com/voteme/19924/616375350ï»¿\n",
       "7    Hello! Do you like gaming, art videos, scientific experiments, tutorials,  lyrics videos, and mu...\n",
       "8                                                                         I'm only checking the viewsï»¿\n",
       "9                               Show your AUBURN PRIDE HERE: http://www.teespring.com/tigermeathoodieï»¿\n",
       "Name: CONTENT, dtype: object"
      ]
     },
     "execution_count": 531,
     "metadata": {},
     "output_type": "execute_result"
    }
   ],
   "source": [
    "ad['CONTENT'].head(10)"
   ]
  },
  {
   "cell_type": "code",
   "execution_count": 532,
   "metadata": {},
   "outputs": [],
   "source": [
    "import string"
   ]
  },
  {
   "cell_type": "code",
   "execution_count": 533,
   "metadata": {},
   "outputs": [
    {
     "data": {
      "text/plain": [
       "'0123456789abcdefghijklmnopqrstuvwxyzABCDEFGHIJKLMNOPQRSTUVWXYZ!\"#$%&\\'()*+,-./:;<=>?@[\\\\]^_`{|}~ \\t\\n\\r\\x0b\\x0c'"
      ]
     },
     "execution_count": 533,
     "metadata": {},
     "output_type": "execute_result"
    }
   ],
   "source": [
    "eng=string.printable\n",
    "eng"
   ]
  },
  {
   "cell_type": "code",
   "execution_count": 534,
   "metadata": {},
   "outputs": [
    {
     "data": {
      "text/plain": [
       "0                                                  Huh, anyway check out this you[tube] channel: kobyoshi02\n",
       "1                                                                    watch?v=vtaRGgvGtWQ   Check this out .\n",
       "2                                                                                  Subscribe to my channel \n",
       "3                                        and u should.d check my channel and tell me what I should do next!\n",
       "4        Once you have started reading do not stop. If you do not subscribe to me  within one day you an...\n",
       "5                                                                       https://twitter.com/GBphotographyGB\n",
       "6                                   please like :D https://premium.easypromosapp.com/voteme/19924/616375350\n",
       "7       Hello! Do you like gaming, art videos, scientific experiments, tutorials,  lyrics videos, and mu...\n",
       "8                                                                               I'm only checking the views\n",
       "9                                     Show your AUBURN PRIDE HERE: http://www.teespring.com/tigermeathoodie\n",
       "10                                                                                     CHECK OUT MY CHANNEL\n",
       "11      Hey guys! Im a 12 yr old music producer. I make chiptunes and 8bit music.  It would be wonderful...\n",
       "12                               I dont even watch it anymore i just come here to check on 2 Billion or not\n",
       "13                                                          Subscribe to me for free Android games, apps.. \n",
       "14                        everyone please come check our newest song in memories of Martin Luther  King Jr.\n",
       "15                                                                         sub my channel for no reason -_-\n",
       "16      Check out my dubstep song \"Fireball\", made with Fruity Loops. I really took  time in it.  /watch...\n",
       "17                                                                                 2 billion....Coming soon\n",
       "18                                             YouTube/codytolleson for awesome videos I'll subscribe back \n",
       "19                        if you like roblox minecraft world of warcraft gta5 mario suscribe to my  channel\n",
       "20                                            http://www.twitch.tv/jaroadc come follow and watch my stream!\n",
       "21                                now its 1,884,034,783 views! pls. comment the view count the next hour :P\n",
       "22      http://www.avaaz.org/po/petition/Youtube_Corporation_Fox_Broadcasting_Company_Anular_os_strikes_...\n",
       "23                                                                            go here to check the views :3\n",
       "24                                                 thumbs up if u checked this video to see hw views it got\n",
       "25                                                 Plz subscribe to my channel and I will subscribe back xx\n",
       "26                                  i check back often to help reach 2x10^9 views and I avoid watching Baby\n",
       "27      https://www.facebook.com/pages/Brew-Crew-2014/134470083389909 Like this  facebook-page! Chance t...\n",
       "28      get GWAR to play 2015 superbowl  http://www.change.org/petitions/the-national-football-league-al...\n",
       "29                                                   Pls follow this channel!! http://www.twitch.tv/sevadus\n",
       "                                                       ...                                                 \n",
       "1126                                                                     Hi. Check out and share our songs.\n",
       "1127                                                               CHECK OUT partyman318 FR GOOD TUNEZ!! :D\n",
       "1128    Hey youtubers... I really appreciate all of you who took the time, to read this, I am just a 19 ...\n",
       "1129    Hey Music Fans I really appreciate any of you who will take the time to read this, and check my ...\n",
       "1130    Hey Music Fans I really appreciate any of you who will take the time to read this, and check my ...\n",
       "1131    Hey Music Fans I really appreciate any of you who will take the time to read this, and check my ...\n",
       "1132                                                                     Hi. Check out and share our songs.\n",
       "1133                                                                      Hi.Check out and share our songs.\n",
       "1134    Hey Music Fans I really appreciate any of you who will take the time to read this, and check my ...\n",
       "1135    Hey, I am doing the Forty Hour famine so I&#39;ll be giving up on food and social working for 40...\n",
       "1136                                                               Love itt and ppl check out my channel!!!\n",
       "1137                                                                                   SUBSCRIBE MY CHANNEL\n",
       "1138                                                                                         adf.ly / KlD3Y\n",
       "1139                                                                                 check out my new video\n",
       "1140    ******* Facebook is LAME and so 2004! Check out ------------ swagFriends com Make thousands of c...\n",
       "1141    Please check out and send to others Freedom and Justice are on the line!  Please Google:   Steve...\n",
       "1142    Nice to meet You - this is Johnny: 1. If You already know my music - thumb this up, because You ...\n",
       "1143                                                       hey you ! check out the channel of Alvar Lake !!\n",
       "1144                                                                                                    wow\n",
       "1145                                                                                  Love this song !!!!!!\n",
       "1146    Check out this video on YouTube:<br />&quot;This Time for Africa&quot;. One for Trayvon!  And Ou...\n",
       "1147    O peoples of the earth, I have seen how you perform every form of evil at your leisure! You ceas...\n",
       "1148    I WILL NEVER FORGET THIS SONG IN MY LIFE LIKE THIS COMMENT OF YOUR HEARING THIS SONG FOR LIKE A ...\n",
       "1149    **CHECK OUT MY NEW MIXTAPE**** **CHECK OUT MY NEW MIXTAPE**** **CHECK OUT MY NEW MIXTAPE*** ***C...\n",
       "1150    **CHECK OUT MY NEW MIXTAPE**** **CHECK OUT MY NEW MIXTAPE**** **CHECK OUT MY NEW MIXTAPE*** ***C...\n",
       "1151    **CHECK OUT MY NEW MIXTAPE**** **CHECK OUT MY NEW MIXTAPE**** **CHECK OUT MY NEW MIXTAPE*** ***C...\n",
       "1152                                                                                    Waka waka she rules\n",
       "1153          I love this song for two reasons: 1.it is about Africa 2.i was born in beautiful south Africa\n",
       "1154                                                                                                    wow\n",
       "1155                                                                                Shakira u are so wiredo\n",
       "Name: CONTENT, Length: 1156, dtype: object"
      ]
     },
     "execution_count": 534,
     "metadata": {},
     "output_type": "execute_result"
    }
   ],
   "source": [
    "# Removing punctuation\n",
    "\n",
    "ad['CONTENT']=ad['CONTENT'].apply(lambda x: x.encode(\"ascii\", errors=\"ignore\").decode())\n",
    "ad['CONTENT']"
   ]
  },
  {
   "cell_type": "code",
   "execution_count": 535,
   "metadata": {},
   "outputs": [],
   "source": [
    "# Removing HTML tags\n",
    "\n",
    "import re\n",
    "\n",
    "def cleanhtml(raw_html):\n",
    "  cleanr = re.compile('<.*?>')\n",
    "  cleantext = re.sub(cleanr, '', raw_html)\n",
    "  return cleantext"
   ]
  },
  {
   "cell_type": "code",
   "execution_count": 536,
   "metadata": {},
   "outputs": [
    {
     "data": {
      "text/plain": [
       "0                                                  Huh, anyway check out this you[tube] channel: kobyoshi02\n",
       "1                                                                    watch?v=vtaRGgvGtWQ   Check this out .\n",
       "2                                                                                  Subscribe to my channel \n",
       "3                                        and u should.d check my channel and tell me what I should do next!\n",
       "4        Once you have started reading do not stop. If you do not subscribe to me  within one day you an...\n",
       "5                                                                       https://twitter.com/GBphotographyGB\n",
       "6                                   please like :D https://premium.easypromosapp.com/voteme/19924/616375350\n",
       "7       Hello! Do you like gaming, art videos, scientific experiments, tutorials,  lyrics videos, and mu...\n",
       "8                                                                               I'm only checking the views\n",
       "9                                     Show your AUBURN PRIDE HERE: http://www.teespring.com/tigermeathoodie\n",
       "10                                                                                     CHECK OUT MY CHANNEL\n",
       "11      Hey guys! Im a 12 yr old music producer. I make chiptunes and 8bit music.  It would be wonderful...\n",
       "12                               I dont even watch it anymore i just come here to check on 2 Billion or not\n",
       "13                                                          Subscribe to me for free Android games, apps.. \n",
       "14                        everyone please come check our newest song in memories of Martin Luther  King Jr.\n",
       "15                                                                         sub my channel for no reason -_-\n",
       "16      Check out my dubstep song \"Fireball\", made with Fruity Loops. I really took  time in it.  /watch...\n",
       "17                                                                                 2 billion....Coming soon\n",
       "18                                             YouTube/codytolleson for awesome videos I'll subscribe back \n",
       "19                        if you like roblox minecraft world of warcraft gta5 mario suscribe to my  channel\n",
       "20                                            http://www.twitch.tv/jaroadc come follow and watch my stream!\n",
       "21                                now its 1,884,034,783 views! pls. comment the view count the next hour :P\n",
       "22      http://www.avaaz.org/po/petition/Youtube_Corporation_Fox_Broadcasting_Company_Anular_os_strikes_...\n",
       "23                                                                            go here to check the views :3\n",
       "24                                                 thumbs up if u checked this video to see hw views it got\n",
       "25                                                 Plz subscribe to my channel and I will subscribe back xx\n",
       "26                                  i check back often to help reach 2x10^9 views and I avoid watching Baby\n",
       "27      https://www.facebook.com/pages/Brew-Crew-2014/134470083389909 Like this  facebook-page! Chance t...\n",
       "28      get GWAR to play 2015 superbowl  http://www.change.org/petitions/the-national-football-league-al...\n",
       "29                                                   Pls follow this channel!! http://www.twitch.tv/sevadus\n",
       "                                                       ...                                                 \n",
       "1126                                                                     Hi. Check out and share our songs.\n",
       "1127                                                               CHECK OUT partyman318 FR GOOD TUNEZ!! :D\n",
       "1128    Hey youtubers... I really appreciate all of you who took the time, to read this, I am just a 19 ...\n",
       "1129    Hey Music Fans I really appreciate any of you who will take the time to read this, and check my ...\n",
       "1130    Hey Music Fans I really appreciate any of you who will take the time to read this, and check my ...\n",
       "1131    Hey Music Fans I really appreciate any of you who will take the time to read this, and check my ...\n",
       "1132                                                                     Hi. Check out and share our songs.\n",
       "1133                                                                      Hi.Check out and share our songs.\n",
       "1134    Hey Music Fans I really appreciate any of you who will take the time to read this, and check my ...\n",
       "1135    Hey, I am doing the Forty Hour famine so I&#39;ll be giving up on food and social working for 40...\n",
       "1136                                                               Love itt and ppl check out my channel!!!\n",
       "1137                                                                                   SUBSCRIBE MY CHANNEL\n",
       "1138                                                                                         adf.ly / KlD3Y\n",
       "1139                                                                                 check out my new video\n",
       "1140    ******* Facebook is LAME and so 2004! Check out ------------ swagFriends com Make thousands of c...\n",
       "1141    Please check out and send to others Freedom and Justice are on the line!  Please Google:   Steve...\n",
       "1142    Nice to meet You - this is Johnny: 1. If You already know my music - thumb this up, because You ...\n",
       "1143                                                       hey you ! check out the channel of Alvar Lake !!\n",
       "1144                                                                                                    wow\n",
       "1145                                                                                  Love this song !!!!!!\n",
       "1146    Check out this video on YouTube:&quot;This Time for Africa&quot;. One for Trayvon!  And Our MOTH...\n",
       "1147    O peoples of the earth, I have seen how you perform every form of evil at your leisure! You ceas...\n",
       "1148    I WILL NEVER FORGET THIS SONG IN MY LIFE LIKE THIS COMMENT OF YOUR HEARING THIS SONG FOR LIKE A ...\n",
       "1149    **CHECK OUT MY NEW MIXTAPE**** **CHECK OUT MY NEW MIXTAPE**** **CHECK OUT MY NEW MIXTAPE*** ***C...\n",
       "1150    **CHECK OUT MY NEW MIXTAPE**** **CHECK OUT MY NEW MIXTAPE**** **CHECK OUT MY NEW MIXTAPE*** ***C...\n",
       "1151    **CHECK OUT MY NEW MIXTAPE**** **CHECK OUT MY NEW MIXTAPE**** **CHECK OUT MY NEW MIXTAPE*** ***C...\n",
       "1152                                                                                    Waka waka she rules\n",
       "1153          I love this song for two reasons: 1.it is about Africa 2.i was born in beautiful south Africa\n",
       "1154                                                                                                    wow\n",
       "1155                                                                                Shakira u are so wiredo\n",
       "Name: CONTENT, Length: 1156, dtype: object"
      ]
     },
     "execution_count": 536,
     "metadata": {},
     "output_type": "execute_result"
    }
   ],
   "source": [
    "ad['CONTENT']= ad['CONTENT'].apply(lambda x: cleanhtml(x))\n",
    "ad['CONTENT']"
   ]
  },
  {
   "cell_type": "code",
   "execution_count": 537,
   "metadata": {},
   "outputs": [
    {
     "data": {
      "text/plain": [
       "'!\"#$%&\\'()*+,-./:;<=>?@[\\\\]^_`{|}~'"
      ]
     },
     "execution_count": 537,
     "metadata": {},
     "output_type": "execute_result"
    }
   ],
   "source": [
    "string.punctuation"
   ]
  },
  {
   "cell_type": "code",
   "execution_count": 538,
   "metadata": {},
   "outputs": [],
   "source": [
    "# Removing punctuation\n",
    "\n",
    "def removepunc(s):\n",
    "    translator = str.maketrans(string.punctuation, ' '*len(string.punctuation)) #map punctuation to space\n",
    "    return (s.translate(translator))"
   ]
  },
  {
   "cell_type": "code",
   "execution_count": 539,
   "metadata": {},
   "outputs": [
    {
     "data": {
      "text/plain": [
       "0                                                  Huh  anyway check out this you tube  channel  kobyoshi02\n",
       "1                                                                    watch v vtaRGgvGtWQ   Check this out  \n",
       "2                                                                                  Subscribe to my channel \n",
       "3                                        and u should d check my channel and tell me what I should do next \n",
       "4        Once you have started reading do not stop  If you do not subscribe to me  within one day you an...\n",
       "5                                                                       https   twitter com GBphotographyGB\n",
       "6                                   please like  D https   premium easypromosapp com voteme 19924 616375350\n",
       "7       Hello  Do you like gaming  art videos  scientific experiments  tutorials   lyrics videos  and mu...\n",
       "8                                                                               I m only checking the views\n",
       "9                                     Show your AUBURN PRIDE HERE  http   www teespring com tigermeathoodie\n",
       "10                                                                                     CHECK OUT MY CHANNEL\n",
       "11      Hey guys  Im a 12 yr old music producer  I make chiptunes and 8bit music   It would be wonderful...\n",
       "12                               I dont even watch it anymore i just come here to check on 2 Billion or not\n",
       "13                                                          Subscribe to me for free Android games  apps   \n",
       "14                        everyone please come check our newest song in memories of Martin Luther  King Jr \n",
       "15                                                                         sub my channel for no reason    \n",
       "16      Check out my dubstep song  Fireball   made with Fruity Loops  I really took  time in it    watch...\n",
       "17                                                                                 2 billion    Coming soon\n",
       "18                                             YouTube codytolleson for awesome videos I ll subscribe back \n",
       "19                        if you like roblox minecraft world of warcraft gta5 mario suscribe to my  channel\n",
       "20                                            http   www twitch tv jaroadc come follow and watch my stream \n",
       "21                                now its 1 884 034 783 views  pls  comment the view count the next hour  P\n",
       "22      http   www avaaz org po petition Youtube Corporation Fox Broadcasting Company Anular os strikes ...\n",
       "23                                                                            go here to check the views  3\n",
       "24                                                 thumbs up if u checked this video to see hw views it got\n",
       "25                                                 Plz subscribe to my channel and I will subscribe back xx\n",
       "26                                  i check back often to help reach 2x10 9 views and I avoid watching Baby\n",
       "27      https   www facebook com pages Brew Crew 2014 134470083389909 Like this  facebook page  Chance t...\n",
       "28      get GWAR to play 2015 superbowl  http   www change org petitions the national football league al...\n",
       "29                                                   Pls follow this channel   http   www twitch tv sevadus\n",
       "                                                       ...                                                 \n",
       "1126                                                                     Hi  Check out and share our songs \n",
       "1127                                                               CHECK OUT partyman318 FR GOOD TUNEZ    D\n",
       "1128    Hey youtubers    I really appreciate all of you who took the time  to read this  I am just a 19 ...\n",
       "1129    Hey Music Fans I really appreciate any of you who will take the time to read this  and check my ...\n",
       "1130    Hey Music Fans I really appreciate any of you who will take the time to read this  and check my ...\n",
       "1131    Hey Music Fans I really appreciate any of you who will take the time to read this  and check my ...\n",
       "1132                                                                     Hi  Check out and share our songs \n",
       "1133                                                                      Hi Check out and share our songs \n",
       "1134    Hey Music Fans I really appreciate any of you who will take the time to read this  and check my ...\n",
       "1135    Hey  I am doing the Forty Hour famine so I  39 ll be giving up on food and social working for 40...\n",
       "1136                                                               Love itt and ppl check out my channel   \n",
       "1137                                                                                   SUBSCRIBE MY CHANNEL\n",
       "1138                                                                                         adf ly   KlD3Y\n",
       "1139                                                                                 check out my new video\n",
       "1140            Facebook is LAME and so 2004  Check out              swagFriends com Make thousands of c...\n",
       "1141    Please check out and send to others Freedom and Justice are on the line   Please Google    Steve...\n",
       "1142    Nice to meet You   this is Johnny  1  If You already know my music   thumb this up  because You ...\n",
       "1143                                                       hey you   check out the channel of Alvar Lake   \n",
       "1144                                                                                                    wow\n",
       "1145                                                                                  Love this song       \n",
       "1146    Check out this video on YouTube  quot This Time for Africa quot   One for Trayvon   And Our MOTH...\n",
       "1147    O peoples of the earth  I have seen how you perform every form of evil at your leisure  You ceas...\n",
       "1148    I WILL NEVER FORGET THIS SONG IN MY LIFE LIKE THIS COMMENT OF YOUR HEARING THIS SONG FOR LIKE A ...\n",
       "1149      CHECK OUT MY NEW MIXTAPE       CHECK OUT MY NEW MIXTAPE       CHECK OUT MY NEW MIXTAPE       C...\n",
       "1150      CHECK OUT MY NEW MIXTAPE       CHECK OUT MY NEW MIXTAPE       CHECK OUT MY NEW MIXTAPE       C...\n",
       "1151      CHECK OUT MY NEW MIXTAPE       CHECK OUT MY NEW MIXTAPE       CHECK OUT MY NEW MIXTAPE       C...\n",
       "1152                                                                                    Waka waka she rules\n",
       "1153          I love this song for two reasons  1 it is about Africa 2 i was born in beautiful south Africa\n",
       "1154                                                                                                    wow\n",
       "1155                                                                                Shakira u are so wiredo\n",
       "Name: CONTENT, Length: 1156, dtype: object"
      ]
     },
     "execution_count": 539,
     "metadata": {},
     "output_type": "execute_result"
    }
   ],
   "source": [
    "ad['CONTENT']=ad['CONTENT'].apply(lambda x: removepunc(x))\n",
    "ad['CONTENT']"
   ]
  },
  {
   "cell_type": "code",
   "execution_count": 540,
   "metadata": {},
   "outputs": [
    {
     "data": {
      "text/plain": [
       "0                                                     Huh anyway check out this you tube channel kobyoshi02\n",
       "1                                                                       watch v vtaRGgvGtWQ Check this out \n",
       "2                                                                                  Subscribe to my channel \n",
       "3                                        and u should d check my channel and tell me what I should do next \n",
       "4        Once you have started reading do not stop If you do not subscribe to me within one day you and ...\n",
       "5                                                                         https twitter com GBphotographyGB\n",
       "6                                      please like D https premium easypromosapp com voteme 19924 616375350\n",
       "7       Hello Do you like gaming art videos scientific experiments tutorials lyrics videos and much much...\n",
       "8                                                                               I m only checking the views\n",
       "9                                        Show your AUBURN PRIDE HERE http www teespring com tigermeathoodie\n",
       "10                                                                                     CHECK OUT MY CHANNEL\n",
       "11      Hey guys Im a 12 yr old music producer I make chiptunes and 8bit music It would be wonderful if ...\n",
       "12                               I dont even watch it anymore i just come here to check on 2 Billion or not\n",
       "13                                                             Subscribe to me for free Android games apps \n",
       "14                         everyone please come check our newest song in memories of Martin Luther King Jr \n",
       "15                                                                            sub my channel for no reason \n",
       "16      Check out my dubstep song Fireball made with Fruity Loops I really took time in it watch v telOA...\n",
       "17                                                                                    2 billion Coming soon\n",
       "18                                             YouTube codytolleson for awesome videos I ll subscribe back \n",
       "19                         if you like roblox minecraft world of warcraft gta5 mario suscribe to my channel\n",
       "20                                              http www twitch tv jaroadc come follow and watch my stream \n",
       "21                                   now its 1 884 034 783 views pls comment the view count the next hour P\n",
       "22      http www avaaz org po petition Youtube Corporation Fox Broadcasting Company Anular os strikes no...\n",
       "23                                                                             go here to check the views 3\n",
       "24                                                 thumbs up if u checked this video to see hw views it got\n",
       "25                                                 Plz subscribe to my channel and I will subscribe back xx\n",
       "26                                  i check back often to help reach 2x10 9 views and I avoid watching Baby\n",
       "27      https www facebook com pages Brew Crew 2014 134470083389909 Like this facebook page Chance to wi...\n",
       "28      get GWAR to play 2015 superbowl http www change org petitions the national football league allow...\n",
       "29                                                       Pls follow this channel http www twitch tv sevadus\n",
       "                                                       ...                                                 \n",
       "1126                                                                      Hi Check out and share our songs \n",
       "1127                                                                  CHECK OUT partyman318 FR GOOD TUNEZ D\n",
       "1128    Hey youtubers I really appreciate all of you who took the time to read this I am just a 19 year ...\n",
       "1129    Hey Music Fans I really appreciate any of you who will take the time to read this and check my m...\n",
       "1130    Hey Music Fans I really appreciate any of you who will take the time to read this and check my m...\n",
       "1131    Hey Music Fans I really appreciate any of you who will take the time to read this and check my m...\n",
       "1132                                                                      Hi Check out and share our songs \n",
       "1133                                                                      Hi Check out and share our songs \n",
       "1134    Hey Music Fans I really appreciate any of you who will take the time to read this and check my m...\n",
       "1135    Hey I am doing the Forty Hour famine so I 39 ll be giving up on food and social working for 40 h...\n",
       "1136                                                                 Love itt and ppl check out my channel \n",
       "1137                                                                                   SUBSCRIBE MY CHANNEL\n",
       "1138                                                                                           adf ly KlD3Y\n",
       "1139                                                                                 check out my new video\n",
       "1140     Facebook is LAME and so 2004 Check out swagFriends com Make thousands of cool new friends every...\n",
       "1141    Please check out and send to others Freedom and Justice are on the line Please Google Steven L R...\n",
       "1142    Nice to meet You this is Johnny 1 If You already know my music thumb this up because You found i...\n",
       "1143                                                           hey you check out the channel of Alvar Lake \n",
       "1144                                                                                                    wow\n",
       "1145                                                                                        Love this song \n",
       "1146    Check out this video on YouTube quot This Time for Africa quot One for Trayvon And Our MOTHERlan...\n",
       "1147    O peoples of the earth I have seen how you perform every form of evil at your leisure You cease ...\n",
       "1148    I WILL NEVER FORGET THIS SONG IN MY LIFE LIKE THIS COMMENT OF YOUR HEARING THIS SONG FOR LIKE A ...\n",
       "1149     CHECK OUT MY NEW MIXTAPE CHECK OUT MY NEW MIXTAPE CHECK OUT MY NEW MIXTAPE CHECK OUT MY NEW MIX...\n",
       "1150     CHECK OUT MY NEW MIXTAPE CHECK OUT MY NEW MIXTAPE CHECK OUT MY NEW MIXTAPE CHECK OUT MY NEW MIX...\n",
       "1151     CHECK OUT MY NEW MIXTAPE CHECK OUT MY NEW MIXTAPE CHECK OUT MY NEW MIXTAPE CHECK OUT MY NEW MIX...\n",
       "1152                                                                                    Waka waka she rules\n",
       "1153           I love this song for two reasons 1 it is about Africa 2 i was born in beautiful south Africa\n",
       "1154                                                                                                    wow\n",
       "1155                                                                                Shakira u are so wiredo\n",
       "Name: CONTENT, Length: 1156, dtype: object"
      ]
     },
     "execution_count": 540,
     "metadata": {},
     "output_type": "execute_result"
    }
   ],
   "source": [
    "# Replace multiple spaces with single space\n",
    "\n",
    "ad['CONTENT']=ad['CONTENT'].apply(lambda x: re.sub(' +', ' ',x))\n",
    "ad['CONTENT']"
   ]
  },
  {
   "cell_type": "markdown",
   "metadata": {},
   "source": [
    "Converting to lower case"
   ]
  },
  {
   "cell_type": "code",
   "execution_count": 541,
   "metadata": {},
   "outputs": [
    {
     "data": {
      "text/plain": [
       "0                                                     huh anyway check out this you tube channel kobyoshi02\n",
       "1                                                                       watch v vtarggvgtwq check this out \n",
       "2                                                                                  subscribe to my channel \n",
       "3                                        and u should d check my channel and tell me what i should do next \n",
       "4        once you have started reading do not stop if you do not subscribe to me within one day you and ...\n",
       "5                                                                         https twitter com gbphotographygb\n",
       "6                                      please like d https premium easypromosapp com voteme 19924 616375350\n",
       "7       hello do you like gaming art videos scientific experiments tutorials lyrics videos and much much...\n",
       "8                                                                               i m only checking the views\n",
       "9                                        show your auburn pride here http www teespring com tigermeathoodie\n",
       "10                                                                                     check out my channel\n",
       "11      hey guys im a 12 yr old music producer i make chiptunes and 8bit music it would be wonderful if ...\n",
       "12                               i dont even watch it anymore i just come here to check on 2 billion or not\n",
       "13                                                             subscribe to me for free android games apps \n",
       "14                         everyone please come check our newest song in memories of martin luther king jr \n",
       "15                                                                            sub my channel for no reason \n",
       "16      check out my dubstep song fireball made with fruity loops i really took time in it watch v teloa...\n",
       "17                                                                                    2 billion coming soon\n",
       "18                                             youtube codytolleson for awesome videos i ll subscribe back \n",
       "19                         if you like roblox minecraft world of warcraft gta5 mario suscribe to my channel\n",
       "20                                              http www twitch tv jaroadc come follow and watch my stream \n",
       "21                                   now its 1 884 034 783 views pls comment the view count the next hour p\n",
       "22      http www avaaz org po petition youtube corporation fox broadcasting company anular os strikes no...\n",
       "23                                                                             go here to check the views 3\n",
       "24                                                 thumbs up if u checked this video to see hw views it got\n",
       "25                                                 plz subscribe to my channel and i will subscribe back xx\n",
       "26                                  i check back often to help reach 2x10 9 views and i avoid watching baby\n",
       "27      https www facebook com pages brew crew 2014 134470083389909 like this facebook page chance to wi...\n",
       "28      get gwar to play 2015 superbowl http www change org petitions the national football league allow...\n",
       "29                                                       pls follow this channel http www twitch tv sevadus\n",
       "                                                       ...                                                 \n",
       "1126                                                                      hi check out and share our songs \n",
       "1127                                                                  check out partyman318 fr good tunez d\n",
       "1128    hey youtubers i really appreciate all of you who took the time to read this i am just a 19 year ...\n",
       "1129    hey music fans i really appreciate any of you who will take the time to read this and check my m...\n",
       "1130    hey music fans i really appreciate any of you who will take the time to read this and check my m...\n",
       "1131    hey music fans i really appreciate any of you who will take the time to read this and check my m...\n",
       "1132                                                                      hi check out and share our songs \n",
       "1133                                                                      hi check out and share our songs \n",
       "1134    hey music fans i really appreciate any of you who will take the time to read this and check my m...\n",
       "1135    hey i am doing the forty hour famine so i 39 ll be giving up on food and social working for 40 h...\n",
       "1136                                                                 love itt and ppl check out my channel \n",
       "1137                                                                                   subscribe my channel\n",
       "1138                                                                                           adf ly kld3y\n",
       "1139                                                                                 check out my new video\n",
       "1140     facebook is lame and so 2004 check out swagfriends com make thousands of cool new friends every...\n",
       "1141    please check out and send to others freedom and justice are on the line please google steven l r...\n",
       "1142    nice to meet you this is johnny 1 if you already know my music thumb this up because you found i...\n",
       "1143                                                           hey you check out the channel of alvar lake \n",
       "1144                                                                                                    wow\n",
       "1145                                                                                        love this song \n",
       "1146    check out this video on youtube quot this time for africa quot one for trayvon and our motherlan...\n",
       "1147    o peoples of the earth i have seen how you perform every form of evil at your leisure you cease ...\n",
       "1148    i will never forget this song in my life like this comment of your hearing this song for like a ...\n",
       "1149     check out my new mixtape check out my new mixtape check out my new mixtape check out my new mix...\n",
       "1150     check out my new mixtape check out my new mixtape check out my new mixtape check out my new mix...\n",
       "1151     check out my new mixtape check out my new mixtape check out my new mixtape check out my new mix...\n",
       "1152                                                                                    waka waka she rules\n",
       "1153           i love this song for two reasons 1 it is about africa 2 i was born in beautiful south africa\n",
       "1154                                                                                                    wow\n",
       "1155                                                                                shakira u are so wiredo\n",
       "Name: CONTENT, Length: 1156, dtype: object"
      ]
     },
     "execution_count": 541,
     "metadata": {},
     "output_type": "execute_result"
    }
   ],
   "source": [
    "ad['CONTENT']=ad['CONTENT'].apply(lambda x: x.lower())\n",
    "ad['CONTENT']"
   ]
  },
  {
   "cell_type": "code",
   "execution_count": 542,
   "metadata": {},
   "outputs": [
    {
     "data": {
      "text/plain": [
       "['i',\n",
       " 'me',\n",
       " 'my',\n",
       " 'myself',\n",
       " 'we',\n",
       " 'our',\n",
       " 'ours',\n",
       " 'ourselves',\n",
       " 'you',\n",
       " \"you're\",\n",
       " \"you've\",\n",
       " \"you'll\",\n",
       " \"you'd\",\n",
       " 'your',\n",
       " 'yours',\n",
       " 'yourself',\n",
       " 'yourselves',\n",
       " 'he',\n",
       " 'him',\n",
       " 'his',\n",
       " 'himself',\n",
       " 'she',\n",
       " \"she's\",\n",
       " 'her',\n",
       " 'hers',\n",
       " 'herself',\n",
       " 'it',\n",
       " \"it's\",\n",
       " 'its',\n",
       " 'itself',\n",
       " 'they',\n",
       " 'them',\n",
       " 'their',\n",
       " 'theirs',\n",
       " 'themselves',\n",
       " 'what',\n",
       " 'which',\n",
       " 'who',\n",
       " 'whom',\n",
       " 'this',\n",
       " 'that',\n",
       " \"that'll\",\n",
       " 'these',\n",
       " 'those',\n",
       " 'am',\n",
       " 'is',\n",
       " 'are',\n",
       " 'was',\n",
       " 'were',\n",
       " 'be',\n",
       " 'been',\n",
       " 'being',\n",
       " 'have',\n",
       " 'has',\n",
       " 'had',\n",
       " 'having',\n",
       " 'do',\n",
       " 'does',\n",
       " 'did',\n",
       " 'doing',\n",
       " 'a',\n",
       " 'an',\n",
       " 'the',\n",
       " 'and',\n",
       " 'but',\n",
       " 'if',\n",
       " 'or',\n",
       " 'because',\n",
       " 'as',\n",
       " 'until',\n",
       " 'while',\n",
       " 'of',\n",
       " 'at',\n",
       " 'by',\n",
       " 'for',\n",
       " 'with',\n",
       " 'about',\n",
       " 'against',\n",
       " 'between',\n",
       " 'into',\n",
       " 'through',\n",
       " 'during',\n",
       " 'before',\n",
       " 'after',\n",
       " 'above',\n",
       " 'below',\n",
       " 'to',\n",
       " 'from',\n",
       " 'up',\n",
       " 'down',\n",
       " 'in',\n",
       " 'out',\n",
       " 'on',\n",
       " 'off',\n",
       " 'over',\n",
       " 'under',\n",
       " 'again',\n",
       " 'further',\n",
       " 'then',\n",
       " 'once',\n",
       " 'here',\n",
       " 'there',\n",
       " 'when',\n",
       " 'where',\n",
       " 'why',\n",
       " 'how',\n",
       " 'all',\n",
       " 'any',\n",
       " 'both',\n",
       " 'each',\n",
       " 'few',\n",
       " 'more',\n",
       " 'most',\n",
       " 'other',\n",
       " 'some',\n",
       " 'such',\n",
       " 'no',\n",
       " 'nor',\n",
       " 'not',\n",
       " 'only',\n",
       " 'own',\n",
       " 'same',\n",
       " 'so',\n",
       " 'than',\n",
       " 'too',\n",
       " 'very',\n",
       " 's',\n",
       " 't',\n",
       " 'can',\n",
       " 'will',\n",
       " 'just',\n",
       " 'don',\n",
       " \"don't\",\n",
       " 'should',\n",
       " \"should've\",\n",
       " 'now',\n",
       " 'd',\n",
       " 'll',\n",
       " 'm',\n",
       " 'o',\n",
       " 're',\n",
       " 've',\n",
       " 'y',\n",
       " 'ain',\n",
       " 'aren',\n",
       " \"aren't\",\n",
       " 'couldn',\n",
       " \"couldn't\",\n",
       " 'didn',\n",
       " \"didn't\",\n",
       " 'doesn',\n",
       " \"doesn't\",\n",
       " 'hadn',\n",
       " \"hadn't\",\n",
       " 'hasn',\n",
       " \"hasn't\",\n",
       " 'haven',\n",
       " \"haven't\",\n",
       " 'isn',\n",
       " \"isn't\",\n",
       " 'ma',\n",
       " 'mightn',\n",
       " \"mightn't\",\n",
       " 'mustn',\n",
       " \"mustn't\",\n",
       " 'needn',\n",
       " \"needn't\",\n",
       " 'shan',\n",
       " \"shan't\",\n",
       " 'shouldn',\n",
       " \"shouldn't\",\n",
       " 'wasn',\n",
       " \"wasn't\",\n",
       " 'weren',\n",
       " \"weren't\",\n",
       " 'won',\n",
       " \"won't\",\n",
       " 'wouldn',\n",
       " \"wouldn't\"]"
      ]
     },
     "execution_count": 542,
     "metadata": {},
     "output_type": "execute_result"
    }
   ],
   "source": [
    "from nltk.corpus import stopwords\n",
    "\n",
    "stopwords.words('english')"
   ]
  },
  {
   "cell_type": "markdown",
   "metadata": {},
   "source": [
    "Correcting spelling mistakes"
   ]
  },
  {
   "cell_type": "code",
   "execution_count": 543,
   "metadata": {},
   "outputs": [],
   "source": [
    "#from autocorrect import spell"
   ]
  },
  {
   "cell_type": "code",
   "execution_count": 544,
   "metadata": {},
   "outputs": [],
   "source": [
    "#def correctwords (s):\n",
    "#    words= s.split()\n",
    "#    correctWords=[spell(x) for x in words]\n",
    "#    return ' '.join(correctWords)"
   ]
  },
  {
   "cell_type": "code",
   "execution_count": 545,
   "metadata": {},
   "outputs": [],
   "source": [
    "#ad['CONTENT']=ad['CONTENT'].apply(lambda x: correctwords(x))\n",
    "#ad['CONTENT']"
   ]
  },
  {
   "cell_type": "markdown",
   "metadata": {},
   "source": [
    "Applying stemming and lemmatisation"
   ]
  },
  {
   "cell_type": "code",
   "execution_count": 546,
   "metadata": {},
   "outputs": [],
   "source": [
    "import nltk"
   ]
  },
  {
   "cell_type": "code",
   "execution_count": 547,
   "metadata": {},
   "outputs": [
    {
     "name": "stdout",
     "output_type": "stream",
     "text": [
      "[nltk_data] Downloading package wordnet to /home/rajat1/nltk_data...\n",
      "[nltk_data]   Package wordnet is already up-to-date!\n"
     ]
    },
    {
     "data": {
      "text/plain": [
       "True"
      ]
     },
     "execution_count": 547,
     "metadata": {},
     "output_type": "execute_result"
    }
   ],
   "source": [
    "nltk.download('wordnet')"
   ]
  },
  {
   "cell_type": "code",
   "execution_count": 548,
   "metadata": {},
   "outputs": [],
   "source": [
    "from nltk.stem.porter import PorterStemmer \n",
    "from nltk.stem.wordnet import WordNetLemmatizer "
   ]
  },
  {
   "cell_type": "code",
   "execution_count": 549,
   "metadata": {},
   "outputs": [],
   "source": [
    "def stemlem(s):\n",
    "    stem= PorterStemmer()\n",
    "    lem= WordNetLemmatizer()\n",
    "    words= s.split()\n",
    "    stemmed= [stem.stem(x) for x in words]\n",
    "    lemmed= [lem.lemmatize(x, \"v\") for x in stemmed]\n",
    "    new= ' '.join(lemmed)\n",
    "    #new= ' '.join(stemmed)\n",
    "    return new\n",
    "    #return s"
   ]
  },
  {
   "cell_type": "code",
   "execution_count": 550,
   "metadata": {},
   "outputs": [
    {
     "data": {
      "text/plain": [
       "'peopl of the earth i have see how you'"
      ]
     },
     "execution_count": 550,
     "metadata": {},
     "output_type": "execute_result"
    }
   ],
   "source": [
    "stemlem(\"peoples of the earth i have seen how you\")"
   ]
  },
  {
   "cell_type": "code",
   "execution_count": 551,
   "metadata": {},
   "outputs": [
    {
     "data": {
      "text/plain": [
       "0                                                      huh anyway check out thi you tube channel kobyoshi02\n",
       "1                                                                         watch v vtarggvgtwq check thi out\n",
       "2                                                                                    subscrib to my channel\n",
       "3                                         and u should d check my channel and tell me what i should do next\n",
       "4       onc you have start read do not stop if you do not subscrib to me within one day you and you re e...\n",
       "5                                                                          http twitter com gbphotographygb\n",
       "6                                         pleas like d http premium easypromosapp com votem 19924 616375350\n",
       "7       hello do you like game art video scientif experi tutori lyric video and much much more of that i...\n",
       "8                                                                                   i m onli check the view\n",
       "9                                            show your auburn pride here http www teespr com tigermeathoodi\n",
       "10                                                                                     check out my channel\n",
       "11      hey guy im a 12 yr old music produc i make chiptun and 8bit music it would be wonder if you chec...\n",
       "12                                i dont even watch it anymor i just come here to check on 2 billion or not\n",
       "13                                                                 subscrib to me for free android game app\n",
       "14                              everyon pleas come check our newest song in memori of martin luther king jr\n",
       "15                                                                             sub my channel for no reason\n",
       "16      check out my dubstep song firebal make with fruiti loop i realli take time in it watch v teloa6r...\n",
       "17                                                                                      2 billion come soon\n",
       "18                                                  youtub codytolleson for awesom video i ll subscrib back\n",
       "19                          if you like roblox minecraft world of warcraft gta5 mario suscrib to my channel\n",
       "20                                               http www twitch tv jaroadc come follow and watch my stream\n",
       "21                                      now it 1 884 034 783 view pl comment the view count the next hour p\n",
       "22      http www avaaz org po petit youtub corpor fox broadcast compani anular os strike no canal nostal...\n",
       "23                                                                              go here to check the view 3\n",
       "24                                                      thumb up if u check thi video to see hw view it get\n",
       "25                                                   plz subscrib to my channel and i will subscrib back xx\n",
       "26                                      i check back often to help reach 2x10 9 view and i avoid watch babi\n",
       "27      http www facebook com page brew crew 2014 134470083389909 like thi facebook page chanc to win an...\n",
       "28      get gwar to play 2015 superbowl http www chang org petit the nation footbal leagu allow gwar to ...\n",
       "29                                                          pl follow thi channel http www twitch tv sevadu\n",
       "                                                       ...                                                 \n",
       "1126                                                                        hi check out and share our song\n",
       "1127                                                                  check out partyman318 fr good tunez d\n",
       "1128    hey youtub i realli appreci all of you who take the time to read thi i be just a 19 year old boy...\n",
       "1129    hey music fan i realli appreci ani of you who will take the time to read thi and check my music ...\n",
       "1130    hey music fan i realli appreci ani of you who will take the time to read thi and check my music ...\n",
       "1131    hey music fan i realli appreci ani of you who will take the time to read thi and check my music ...\n",
       "1132                                                                        hi check out and share our song\n",
       "1133                                                                        hi check out and share our song\n",
       "1134    hey music fan i realli appreci ani of you who will take the time to read thi and check my music ...\n",
       "1135    hey i be do the forti hour famin so i 39 ll be give up on food and social work for 40 hour i 39 ...\n",
       "1136                                                                  love itt and ppl check out my channel\n",
       "1137                                                                                    subscrib my channel\n",
       "1138                                                                                           adf ly kld3i\n",
       "1139                                                                                 check out my new video\n",
       "1140    facebook be lame and so 2004 check out swagfriend com make thousand of cool new friend everyday ...\n",
       "1141    pleas check out and send to other freedom and justic be on the line pleas googl steven l reed ca...\n",
       "1142    nice to meet you thi be johnni 1 if you alreadi know my music thumb thi up becaus you find it th...\n",
       "1143                                                            hey you check out the channel of alvar lake\n",
       "1144                                                                                                    wow\n",
       "1145                                                                                          love thi song\n",
       "1146    check out thi video on youtub quot thi time for africa quot one for trayvon and our motherlandth...\n",
       "1147    o peopl of the earth i have see how you perform everi form of evil at your leisur you ceas not f...\n",
       "1148         i will never forget thi song in my life like thi comment of your hear thi song for like a year\n",
       "1149    check out my new mixtap check out my new mixtap check out my new mixtap check out my new mixtap ...\n",
       "1150    check out my new mixtap check out my new mixtap check out my new mixtap check out my new mixtap ...\n",
       "1151    check out my new mixtap check out my new mixtap check out my new mixtap check out my new mixtap ...\n",
       "1152                                                                                     waka waka she rule\n",
       "1153                 i love thi song for two reason 1 it be about africa 2 i wa bear in beauti south africa\n",
       "1154                                                                                                    wow\n",
       "1155                                                                                 shakira u be so wiredo\n",
       "Name: CONTENT, Length: 1156, dtype: object"
      ]
     },
     "execution_count": 551,
     "metadata": {},
     "output_type": "execute_result"
    }
   ],
   "source": [
    "ad['CONTENT']=ad['CONTENT'].apply(lambda x: stemlem(x))\n",
    "ad['CONTENT']"
   ]
  },
  {
   "cell_type": "code",
   "execution_count": 552,
   "metadata": {},
   "outputs": [],
   "source": [
    "from sklearn.feature_extraction.text import CountVectorizer"
   ]
  },
  {
   "cell_type": "code",
   "execution_count": 637,
   "metadata": {},
   "outputs": [],
   "source": [
    "bow_transformer = CountVectorizer(ngram_range=(1, 1),max_df=10.0, min_df=5).fit(ad['CONTENT'])"
   ]
  },
  {
   "cell_type": "code",
   "execution_count": 638,
   "metadata": {},
   "outputs": [],
   "source": [
    "messages_bow = bow_transformer.transform(ad['CONTENT'])"
   ]
  },
  {
   "cell_type": "code",
   "execution_count": 639,
   "metadata": {},
   "outputs": [],
   "source": [
    "# TF-IDF Transformation\n",
    "from sklearn.feature_extraction.text import TfidfTransformer"
   ]
  },
  {
   "cell_type": "code",
   "execution_count": 640,
   "metadata": {},
   "outputs": [],
   "source": [
    "tfidf_transformer = TfidfTransformer(sublinear_tf=False).fit(messages_bow)\n",
    "messages_tfidf = tfidf_transformer.transform(messages_bow)"
   ]
  },
  {
   "cell_type": "markdown",
   "metadata": {},
   "source": [
    "Training the model and evaluation"
   ]
  },
  {
   "cell_type": "code",
   "execution_count": 641,
   "metadata": {},
   "outputs": [],
   "source": [
    "from sklearn.naive_bayes import MultinomialNB\n",
    "from sklearn.model_selection import train_test_split"
   ]
  },
  {
   "cell_type": "code",
   "execution_count": 642,
   "metadata": {},
   "outputs": [],
   "source": [
    "X_train, X_test, y_train, y_test=train_test_split(messages_tfidf, ad['CLASS'], test_size=0.33, random_state=42)\n",
    "ad_detect=  MultinomialNB().fit(X_train, y_train)"
   ]
  },
  {
   "cell_type": "code",
   "execution_count": 643,
   "metadata": {},
   "outputs": [],
   "source": [
    "predictions= ad_detect.predict(X_test)"
   ]
  },
  {
   "cell_type": "code",
   "execution_count": 644,
   "metadata": {},
   "outputs": [],
   "source": [
    "from sklearn.metrics import classification_report, confusion_matrix"
   ]
  },
  {
   "cell_type": "code",
   "execution_count": 645,
   "metadata": {},
   "outputs": [
    {
     "name": "stdout",
     "output_type": "stream",
     "text": [
      "[[177   7]\n",
      " [ 18 180]]\n"
     ]
    }
   ],
   "source": [
    "print (confusion_matrix(y_test, predictions))"
   ]
  },
  {
   "cell_type": "code",
   "execution_count": 647,
   "metadata": {},
   "outputs": [
    {
     "name": "stdout",
     "output_type": "stream",
     "text": [
      "             precision    recall  f1-score   support\n",
      "\n",
      "          0       0.91      0.96      0.93       184\n",
      "          1       0.96      0.91      0.94       198\n",
      "\n",
      "avg / total       0.94      0.93      0.93       382\n",
      "\n"
     ]
    }
   ],
   "source": [
    "print(classification_report(y_test, predictions))"
   ]
  },
  {
   "cell_type": "code",
   "execution_count": 648,
   "metadata": {},
   "outputs": [
    {
     "name": "stdout",
     "output_type": "stream",
     "text": [
      "0.9345549738219895\n"
     ]
    }
   ],
   "source": [
    "#Final_Score\n",
    "Final_score=ad_detect.score(X_test,y_test)\n",
    "print(Final_score)"
   ]
  },
  {
   "cell_type": "code",
   "execution_count": 649,
   "metadata": {},
   "outputs": [
    {
     "name": "stdout",
     "output_type": "stream",
     "text": [
      "48.167539267015705\n"
     ]
    }
   ],
   "source": [
    "#PercentageOfNonSpamPostsPredicted\n",
    "number_of_non_spam_posts = sum(confusion_matrix(y_test, predictions)[0])\n",
    "number_of_spam_posts = sum(confusion_matrix(y_test, predictions)[1])\n",
    "Total_posts = number_of_non_spam_posts+number_of_spam_posts\n",
    "print( (number_of_non_spam_posts)/(Total_posts)*100 )"
   ]
  }
 ],
 "metadata": {
  "kernelspec": {
   "display_name": "Python 3",
   "language": "python",
   "name": "python3"
  },
  "language_info": {
   "codemirror_mode": {
    "name": "ipython",
    "version": 3
   },
   "file_extension": ".py",
   "mimetype": "text/x-python",
   "name": "python",
   "nbconvert_exporter": "python",
   "pygments_lexer": "ipython3",
   "version": "3.6.5"
  }
 },
 "nbformat": 4,
 "nbformat_minor": 2
}
